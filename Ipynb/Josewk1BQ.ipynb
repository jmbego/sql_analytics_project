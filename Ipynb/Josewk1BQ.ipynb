{
 "cells": [
  {
   "cell_type": "markdown",
   "id": "7ea6796b",
   "metadata": {},
   "source": [
    "## **CUSTOMER AND SALES ANALYTICS**\n"
   ]
  },
  {
   "cell_type": "markdown",
   "id": "4552fa5e",
   "metadata": {},
   "source": [
    "### INTRODUCTION\n",
    "\n",
    "In today’s data-driven business landscape, organizations rely heavily on data analytics to understand customer behavior, optimize sales strategies, and improve decision-making. The retail and e-commerce sector generates vast amounts of transactional and customer interaction data, which, if analyzed effectively, can uncover actionable insights. This project leverages Google BigQuery’s public dataset **thelook_ecommerce** to explore customer trends, sales performance, and product analytics. By applying SQL techniques, we aim to extract meaningful patterns, build reusable queries, and transform raw data into valuable insights that can support data-driven business strategies."
   ]
  },
  {
   "cell_type": "markdown",
   "id": "e94576bb",
   "metadata": {},
   "source": [
    "### PROBLEM STATEMENT."
   ]
  },
  {
   "cell_type": "markdown",
   "id": "b404d4c1",
   "metadata": {},
   "source": [
    "E-commerce businesses collect vast amounts of data but often face challenges in turning it into actionable insights. Many struggle to identify revenue trends and growth opportunities, understand customer behavior such as loyalty and repeat purchases, and optimize sales strategies across regions and product categories. Additionally, the sheer size of datasets makes scalable analysis difficult without efficient tools. Without a structured approach to analyzing this data, businesses risk missing opportunities for revenue growth, customer retention, and operational efficiency."
   ]
  },
  {
   "cell_type": "markdown",
   "id": "7fb10352",
   "metadata": {},
   "source": [
    "### OBJECTIVES"
   ]
  },
  {
   "cell_type": "markdown",
   "id": "6c2dc35f",
   "metadata": {},
   "source": [
    "- Uncover key insights such as revenue trends, top-performing customers, popular product categories, and customer retention patterns.\n",
    "- Develop SQL expertise for business analytics by writing efficient queries for customer, product, and sales insights."
   ]
  },
  {
   "cell_type": "markdown",
   "id": "67bbe429",
   "metadata": {},
   "source": []
  }
 ],
 "metadata": {
  "kernelspec": {
   "display_name": "learn-env",
   "language": "python",
   "name": "python3"
  },
  "language_info": {
   "codemirror_mode": {
    "name": "ipython",
    "version": 3
   },
   "file_extension": ".py",
   "mimetype": "text/x-python",
   "name": "python",
   "nbconvert_exporter": "python",
   "pygments_lexer": "ipython3",
   "version": "3.8.5"
  }
 },
 "nbformat": 4,
 "nbformat_minor": 5
}
