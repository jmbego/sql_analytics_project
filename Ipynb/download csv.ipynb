{
 "cells": [
  {
   "cell_type": "markdown",
   "id": "e1d86612",
   "metadata": {},
   "source": [
    "Default code"
   ]
  },
  {
   "cell_type": "code",
   "execution_count": null,
   "id": "a6a30cd4",
   "metadata": {},
   "outputs": [],
   "source": [
    "\"\"\"import kagglehub\n",
    "\n",
    "# Download latest version\n",
    "path = kagglehub.dataset_download(\"mustafakeser4/looker-ecommerce-bigquery-dataset\")\n",
    "\n",
    "print(\"Path to dataset files:\", path) \"\"\""
   ]
  },
  {
   "cell_type": "markdown",
   "id": "a761d565",
   "metadata": {},
   "source": [
    "Using kagglehub with custom path"
   ]
  },
  {
   "cell_type": "code",
   "execution_count": null,
   "id": "d206183a",
   "metadata": {},
   "outputs": [],
   "source": [
    "\"\"\"import kagglehub\n",
    "import os\n",
    "\n",
    "# Set your desired download path\n",
    "target_path = r\"N:\\Moringa\\afterM\\sql_analytics_project\\data\"\n",
    "\n",
    "# Download dataset to the specified path\n",
    "path = kagglehub.dataset_download(\"mustafakeser4/looker-ecommerce-bigquery-dataset\", path=target_path)\n",
    "\n",
    "print(\"Path to dataset files:\", path) \"\"\""
   ]
  }
 ],
 "metadata": {
  "kernelspec": {
   "display_name": "newenv",
   "language": "python",
   "name": "python3"
  },
  "language_info": {
   "name": "python",
   "version": "3.9.23"
  }
 },
 "nbformat": 4,
 "nbformat_minor": 5
}
