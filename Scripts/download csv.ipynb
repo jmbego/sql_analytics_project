{
 "cells": [
  {
   "cell_type": "code",
   "execution_count": null,
   "id": "a6a30cd4",
   "metadata": {},
   "outputs": [],
   "source": [
    "\"\"\"import kagglehub\n",
    "\n",
    "# Download latest version\n",
    "path = kagglehub.dataset_download(\"mustafakeser4/looker-ecommerce-bigquery-dataset\")\n",
    "\n",
    "print(\"Path to dataset files:\", path) \"\"\""
   ]
  }
 ],
 "metadata": {
  "kernelspec": {
   "display_name": "dtascnce",
   "language": "python",
   "name": "python3"
  },
  "language_info": {
   "name": "python",
   "version": "3.9.20"
  }
 },
 "nbformat": 4,
 "nbformat_minor": 5
}
